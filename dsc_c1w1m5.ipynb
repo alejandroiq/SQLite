{
 "cells": [
  {
   "cell_type": "markdown",
   "metadata": {
    "id": "ir03DMw4V3br"
   },
   "source": [
    "# Practice SQL Database types\n",
    "\n",
    "Fill out the code, as necessary, below based on the directions in Canvas."
   ]
  },
  {
   "cell_type": "code",
   "execution_count": 1,
   "metadata": {
    "id": "ggEPd8LFXF8r"
   },
   "outputs": [],
   "source": [
    "# Load the list of dictionaries; just run this cell\n",
    "import pickle\n",
    "import sqlite3\n",
    "import pandas as pd"
   ]
  },
  {
   "cell_type": "code",
   "execution_count": 2,
   "metadata": {},
   "outputs": [
    {
     "ename": "OperationalError",
     "evalue": "table grades already exists",
     "output_type": "error",
     "traceback": [
      "\u001b[1;31m---------------------------------------------------------------------------\u001b[0m",
      "\u001b[1;31mOperationalError\u001b[0m                          Traceback (most recent call last)",
      "Cell \u001b[1;32mIn[2], line 4\u001b[0m\n\u001b[0;32m      2\u001b[0m conn \u001b[38;5;241m=\u001b[39m sqlite3\u001b[38;5;241m.\u001b[39mConnection(\u001b[38;5;124m'\u001b[39m\u001b[38;5;124mschool.sqlite\u001b[39m\u001b[38;5;124m'\u001b[39m)\n\u001b[0;32m      3\u001b[0m cur \u001b[38;5;241m=\u001b[39m conn\u001b[38;5;241m.\u001b[39mcursor()\n\u001b[1;32m----> 4\u001b[0m cur\u001b[38;5;241m.\u001b[39mexecute(\u001b[38;5;124m\"\"\"\u001b[39m\u001b[38;5;124mCREATE TABLE grades (\u001b[39m\n\u001b[0;32m      5\u001b[0m \u001b[38;5;124m                                    userId INTEGER NOT NULL,\u001b[39m\n\u001b[0;32m      6\u001b[0m \u001b[38;5;124m                                    courseId INTEGER NOT NULL,\u001b[39m\n\u001b[0;32m      7\u001b[0m \u001b[38;5;124m                                    grade INTEGER,\u001b[39m\n\u001b[0;32m      8\u001b[0m \u001b[38;5;124m                                    PRIMARY KEY(userId, courseId)\u001b[39m\n\u001b[0;32m      9\u001b[0m \u001b[38;5;124m                                    );\u001b[39m\n\u001b[0;32m     10\u001b[0m \u001b[38;5;124m            \u001b[39m\u001b[38;5;124m\"\"\"\u001b[39m)\n",
      "\u001b[1;31mOperationalError\u001b[0m: table grades already exists"
     ]
    }
   ],
   "source": [
    "# Create the grades table\n",
    "conn = sqlite3.Connection('school.sqlite')\n",
    "cur = conn.cursor()\n",
    "cur.execute(\"\"\"CREATE TABLE grades (\n",
    "                                    userId INTEGER NOT NULL,\n",
    "                                    courseId INTEGER NOT NULL,\n",
    "                                    grade INTEGER,\n",
    "                                    PRIMARY KEY(userId, courseId)\n",
    "                                    );\n",
    "            \"\"\")"
   ]
  },
  {
   "cell_type": "code",
   "execution_count": null,
   "metadata": {},
   "outputs": [],
   "source": [
    "# Load the list of dictionaries; just run this cell\n",
    "with open('contact_list.pickle', 'rb') as f:\n",
    "    contacts = pickle.load(f)"
   ]
  },
  {
   "cell_type": "code",
   "execution_count": null,
   "metadata": {},
   "outputs": [],
   "source": [
    "for contact in contacts:\n",
    "    firstName = contact.get('firstName')\n",
    "    lastName = contact.get('lastName')\n",
    "    role = contact.get('role')\n",
    "    telephone = contact.get('telephone ') or contact.get('telephone')  # handle both\n",
    "    street = contact.get('street')\n",
    "    city = contact.get('city')\n",
    "    state = contact.get('state')\n",
    "    zipcode = contact.get('zipcode ') or contact.get('zipcode')        # handle both\n",
    "\n",
    "    cur.execute(\"\"\"\n",
    "        INSERT INTO contactInfo \n",
    "        (firstName, lastName, role, telephone, street, city, state, zipcode)\n",
    "        VALUES (?, ?, ?, ?, ?, ?, ?, ?);\n",
    "    \"\"\", (firstName, lastName, role, telephone, street, city, state, zipcode))\n"
   ]
  },
  {
   "cell_type": "code",
   "execution_count": null,
   "metadata": {},
   "outputs": [],
   "source": [
    "cur.execute(\"\"\"SELECT * \n",
    "               FROM contactInfo;\"\"\")\n",
    "df = pd.DataFrame(cur.fetchall())\n",
    "df.columns = [x[0] for x in cur.description]\n",
    "df"
   ]
  },
  {
   "cell_type": "code",
   "execution_count": null,
   "metadata": {},
   "outputs": [],
   "source": [
    "# Commit your changes to the database: Persist your changes by committing them to the database.\n",
    "conn.commit()"
   ]
  },
  {
   "cell_type": "markdown",
   "metadata": {},
   "source": [
    "# Continue"
   ]
  },
  {
   "cell_type": "markdown",
   "metadata": {},
   "source": [
    "Remove duplicates entries: An analyst just realized that there is a duplicate entry in the contactInfo table! Find and remove it.\n",
    "Updating an address: Ed Lyman just moved to 2910 Simpson Avenue York, PA 17403. Update his address accordingly.\n",
    "Commit your changes to the database: Persist your changes by committing them to the database."
   ]
  },
  {
   "cell_type": "code",
   "execution_count": null,
   "metadata": {},
   "outputs": [],
   "source": [
    "# Find the duplicate entry with SQL code\n",
    "\n",
    "cur.execute(\"\"\"SELECT firstName, lastName, telephone, COUNT(*) \n",
    "               FROM contactInfo\n",
    "               GROUP BY firstName, lastName, telephone\n",
    "               HAVING COUNT(*) > 1;\"\"\").fetchall()"
   ]
  },
  {
   "cell_type": "code",
   "execution_count": null,
   "metadata": {},
   "outputs": [],
   "source": [
    "# Delete the duplicate entry\n",
    "cur.execute(\"\"\"DELETE FROM contactInfo \n",
    "               WHERE telephone = 3259909290;\"\"\")\n",
    "\n",
    "# Check that the duplicate entry was removed \n",
    "cur.execute(\"\"\"SELECT firstName, lastName, telephone, COUNT(*) \n",
    "               FROM contactInfo\n",
    "               GROUP BY firstName, lastName, telephone\n",
    "               HAVING COUNT(*) > 1;\"\"\").fetchall()"
   ]
  },
  {
   "cell_type": "code",
   "execution_count": null,
   "metadata": {},
   "outputs": [],
   "source": [
    "# Update Ed's address\n",
    "cur.execute(\"\"\"UPDATE contactInfo\n",
    "               SET street = \"2910 Simpson Avenue\",\n",
    "                   city = 'York',\n",
    "                   state = 'PA',\n",
    "                   zipcode = '17403'\n",
    "               WHERE firstName = \"Ed\" AND lastName = \"Lyman\";\"\"\")\n",
    "\n",
    "# Query the database to ensure the change was made\n",
    "cur.execute(\"\"\"SELECT * \n",
    "               FROM contactInfo;\"\"\")\n",
    "df = pd.DataFrame(cur.fetchall())\n",
    "df.columns = [x[0] for x in cur.description]\n",
    "df"
   ]
  },
  {
   "cell_type": "code",
   "execution_count": null,
   "metadata": {},
   "outputs": [],
   "source": []
  }
 ],
 "metadata": {
  "colab": {
   "provenance": []
  },
  "kernelspec": {
   "display_name": "Python (base)",
   "language": "python",
   "name": "base"
  },
  "language_info": {
   "codemirror_mode": {
    "name": "ipython",
    "version": 3
   },
   "file_extension": ".py",
   "mimetype": "text/x-python",
   "name": "python",
   "nbconvert_exporter": "python",
   "pygments_lexer": "ipython3",
   "version": "3.12.9"
  }
 },
 "nbformat": 4,
 "nbformat_minor": 4
}
