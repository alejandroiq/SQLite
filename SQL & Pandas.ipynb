{
 "cells": [
  {
   "cell_type": "markdown",
   "id": "91168fc6-172f-4619-a14f-3df6f133c8e8",
   "metadata": {},
   "source": [
    "# SQL & Pandas"
   ]
  },
  {
   "cell_type": "code",
   "execution_count": 5,
   "id": "d4b03cd8-21b7-4591-bc22-c04b689d3a29",
   "metadata": {},
   "outputs": [],
   "source": [
    "import sqlite3\n",
    "import pandas as pd\n",
    "conn = sqlite3.Connection('data (3).sqlite')"
   ]
  },
  {
   "cell_type": "code",
   "execution_count": 6,
   "id": "28727074-caf1-447f-bd3e-960e982a0ab2",
   "metadata": {},
   "outputs": [
    {
     "data": {
      "text/html": [
       "<div>\n",
       "<style scoped>\n",
       "    .dataframe tbody tr th:only-of-type {\n",
       "        vertical-align: middle;\n",
       "    }\n",
       "\n",
       "    .dataframe tbody tr th {\n",
       "        vertical-align: top;\n",
       "    }\n",
       "\n",
       "    .dataframe thead th {\n",
       "        text-align: right;\n",
       "    }\n",
       "</style>\n",
       "<table border=\"1\" class=\"dataframe\">\n",
       "  <thead>\n",
       "    <tr style=\"text-align: right;\">\n",
       "      <th></th>\n",
       "      <th>productCode</th>\n",
       "      <th>productName</th>\n",
       "      <th>productLine</th>\n",
       "      <th>productScale</th>\n",
       "      <th>productVendor</th>\n",
       "      <th>productDescription</th>\n",
       "      <th>quantityInStock</th>\n",
       "      <th>buyPrice</th>\n",
       "      <th>MSRP</th>\n",
       "    </tr>\n",
       "  </thead>\n",
       "  <tbody>\n",
       "    <tr>\n",
       "      <th>0</th>\n",
       "      <td>S10_1678</td>\n",
       "      <td>1969 Harley Davidson Ultimate Chopper</td>\n",
       "      <td>Motorcycles</td>\n",
       "      <td>1:10</td>\n",
       "      <td>Min Lin Diecast</td>\n",
       "      <td>This replica features working kickstand, front...</td>\n",
       "      <td>7933</td>\n",
       "      <td>48.81</td>\n",
       "      <td>95.70</td>\n",
       "    </tr>\n",
       "    <tr>\n",
       "      <th>1</th>\n",
       "      <td>S10_1949</td>\n",
       "      <td>1952 Alpine Renault 1300</td>\n",
       "      <td>Classic Cars</td>\n",
       "      <td>1:10</td>\n",
       "      <td>Classic Metal Creations</td>\n",
       "      <td>Turnable front wheels; steering function; deta...</td>\n",
       "      <td>7305</td>\n",
       "      <td>98.58</td>\n",
       "      <td>214.30</td>\n",
       "    </tr>\n",
       "    <tr>\n",
       "      <th>2</th>\n",
       "      <td>S10_2016</td>\n",
       "      <td>1996 Moto Guzzi 1100i</td>\n",
       "      <td>Motorcycles</td>\n",
       "      <td>1:10</td>\n",
       "      <td>Highway 66 Mini Classics</td>\n",
       "      <td>Official Moto Guzzi logos and insignias, saddl...</td>\n",
       "      <td>6625</td>\n",
       "      <td>68.99</td>\n",
       "      <td>118.94</td>\n",
       "    </tr>\n",
       "    <tr>\n",
       "      <th>3</th>\n",
       "      <td>S10_4698</td>\n",
       "      <td>2003 Harley-Davidson Eagle Drag Bike</td>\n",
       "      <td>Motorcycles</td>\n",
       "      <td>1:10</td>\n",
       "      <td>Red Start Diecast</td>\n",
       "      <td>Model features, official Harley Davidson logos...</td>\n",
       "      <td>5582</td>\n",
       "      <td>91.02</td>\n",
       "      <td>193.66</td>\n",
       "    </tr>\n",
       "    <tr>\n",
       "      <th>4</th>\n",
       "      <td>S10_4757</td>\n",
       "      <td>1972 Alfa Romeo GTA</td>\n",
       "      <td>Classic Cars</td>\n",
       "      <td>1:10</td>\n",
       "      <td>Motor City Art Classics</td>\n",
       "      <td>Features include: Turnable front wheels; steer...</td>\n",
       "      <td>3252</td>\n",
       "      <td>85.68</td>\n",
       "      <td>136.00</td>\n",
       "    </tr>\n",
       "  </tbody>\n",
       "</table>\n",
       "</div>"
      ],
      "text/plain": [
       "  productCode                            productName   productLine  \\\n",
       "0    S10_1678  1969 Harley Davidson Ultimate Chopper   Motorcycles   \n",
       "1    S10_1949               1952 Alpine Renault 1300  Classic Cars   \n",
       "2    S10_2016                  1996 Moto Guzzi 1100i   Motorcycles   \n",
       "3    S10_4698   2003 Harley-Davidson Eagle Drag Bike   Motorcycles   \n",
       "4    S10_4757                    1972 Alfa Romeo GTA  Classic Cars   \n",
       "\n",
       "  productScale             productVendor  \\\n",
       "0         1:10           Min Lin Diecast   \n",
       "1         1:10   Classic Metal Creations   \n",
       "2         1:10  Highway 66 Mini Classics   \n",
       "3         1:10         Red Start Diecast   \n",
       "4         1:10   Motor City Art Classics   \n",
       "\n",
       "                                  productDescription  quantityInStock  \\\n",
       "0  This replica features working kickstand, front...             7933   \n",
       "1  Turnable front wheels; steering function; deta...             7305   \n",
       "2  Official Moto Guzzi logos and insignias, saddl...             6625   \n",
       "3  Model features, official Harley Davidson logos...             5582   \n",
       "4  Features include: Turnable front wheels; steer...             3252   \n",
       "\n",
       "   buyPrice    MSRP  \n",
       "0     48.81   95.70  \n",
       "1     98.58  214.30  \n",
       "2     68.99  118.94  \n",
       "3     91.02  193.66  \n",
       "4     85.68  136.00  "
      ]
     },
     "execution_count": 6,
     "metadata": {},
     "output_type": "execute_result"
    }
   ],
   "source": [
    "products_df = pd.read_sql(\"\"\"\n",
    "                          SELECT *\n",
    "                          FROM products\n",
    "                          \"\"\", conn)\n",
    "products_df.head()"
   ]
  },
  {
   "cell_type": "code",
   "execution_count": 9,
   "id": "e3676047-b7f7-4c32-824d-529b0e1a625c",
   "metadata": {},
   "outputs": [],
   "source": [
    "# Need to make buyPrice numeric\n",
    "products_df['buyPrice'] = products_df['buyPrice'].astype(float)"
   ]
  },
  {
   "cell_type": "code",
   "execution_count": 8,
   "id": "8dbb3b17-0274-41ef-add3-65e89ff86c5c",
   "metadata": {},
   "outputs": [
    {
     "data": {
      "text/html": [
       "<div>\n",
       "<style scoped>\n",
       "    .dataframe tbody tr th:only-of-type {\n",
       "        vertical-align: middle;\n",
       "    }\n",
       "\n",
       "    .dataframe tbody tr th {\n",
       "        vertical-align: top;\n",
       "    }\n",
       "\n",
       "    .dataframe thead th {\n",
       "        text-align: right;\n",
       "    }\n",
       "</style>\n",
       "<table border=\"1\" class=\"dataframe\">\n",
       "  <thead>\n",
       "    <tr style=\"text-align: right;\">\n",
       "      <th></th>\n",
       "      <th>orderNumber</th>\n",
       "      <th>productCode</th>\n",
       "      <th>quantityOrdered</th>\n",
       "      <th>priceEach</th>\n",
       "      <th>orderLineNumber</th>\n",
       "    </tr>\n",
       "  </thead>\n",
       "  <tbody>\n",
       "    <tr>\n",
       "      <th>0</th>\n",
       "      <td>10100</td>\n",
       "      <td>S18_1749</td>\n",
       "      <td>30</td>\n",
       "      <td>136.00</td>\n",
       "      <td>3</td>\n",
       "    </tr>\n",
       "    <tr>\n",
       "      <th>1</th>\n",
       "      <td>10100</td>\n",
       "      <td>S18_2248</td>\n",
       "      <td>50</td>\n",
       "      <td>55.09</td>\n",
       "      <td>2</td>\n",
       "    </tr>\n",
       "    <tr>\n",
       "      <th>2</th>\n",
       "      <td>10100</td>\n",
       "      <td>S18_4409</td>\n",
       "      <td>22</td>\n",
       "      <td>75.46</td>\n",
       "      <td>4</td>\n",
       "    </tr>\n",
       "    <tr>\n",
       "      <th>3</th>\n",
       "      <td>10100</td>\n",
       "      <td>S24_3969</td>\n",
       "      <td>49</td>\n",
       "      <td>35.29</td>\n",
       "      <td>1</td>\n",
       "    </tr>\n",
       "    <tr>\n",
       "      <th>4</th>\n",
       "      <td>10101</td>\n",
       "      <td>S18_2325</td>\n",
       "      <td>25</td>\n",
       "      <td>108.06</td>\n",
       "      <td>4</td>\n",
       "    </tr>\n",
       "  </tbody>\n",
       "</table>\n",
       "</div>"
      ],
      "text/plain": [
       "   orderNumber productCode  quantityOrdered  priceEach  orderLineNumber\n",
       "0        10100    S18_1749               30     136.00                3\n",
       "1        10100    S18_2248               50      55.09                2\n",
       "2        10100    S18_4409               22      75.46                4\n",
       "3        10100    S24_3969               49      35.29                1\n",
       "4        10101    S18_2325               25     108.06                4"
      ]
     },
     "execution_count": 8,
     "metadata": {},
     "output_type": "execute_result"
    }
   ],
   "source": [
    "od_df = pd.read_sql(\"\"\"\n",
    "                    SELECT *\n",
    "                    FROM orderDetails\n",
    "                    \"\"\", conn)\n",
    "\n",
    "od_df.head()"
   ]
  },
  {
   "cell_type": "markdown",
   "id": "209bd22e-9bc4-443a-92ba-086b7ceee7d4",
   "metadata": {},
   "source": [
    "# Pandas Query Method"
   ]
  },
  {
   "cell_type": "code",
   "execution_count": 10,
   "id": "21ed1524-70c5-40f2-97a1-64309e86e151",
   "metadata": {},
   "outputs": [],
   "source": [
    "# Getting Data using slicing syntax\n",
    "foo_df1 = products_df[products_df[\"buyPrice\"] >= 50]"
   ]
  },
  {
   "cell_type": "code",
   "execution_count": 11,
   "id": "8a36ce5d-ddc2-4788-bb81-d658afb6d8ed",
   "metadata": {},
   "outputs": [],
   "source": [
    "# Using The query method\n",
    "foo_df2 = products_df.query(\"buyPrice >= 50\")"
   ]
  },
  {
   "cell_type": "code",
   "execution_count": 12,
   "id": "a81a9ba3-42d5-4213-9d2c-03daec1b6c55",
   "metadata": {},
   "outputs": [
    {
     "name": "stdout",
     "output_type": "stream",
     "text": [
      "(62, 9) (62, 9)\n"
     ]
    }
   ],
   "source": [
    "# These two lines are equivalent!\n",
    "print(foo_df1.shape, foo_df2.shape)"
   ]
  },
  {
   "cell_type": "markdown",
   "id": "2ce76686-4719-4654-86b9-7b1a43142c97",
   "metadata": {},
   "source": [
    "# Combining Conditionals"
   ]
  },
  {
   "cell_type": "code",
   "execution_count": 14,
   "id": "470bd900-c589-4029-bacb-3f66095fb2bd",
   "metadata": {},
   "outputs": [
    {
     "data": {
      "text/html": [
       "<div>\n",
       "<style scoped>\n",
       "    .dataframe tbody tr th:only-of-type {\n",
       "        vertical-align: middle;\n",
       "    }\n",
       "\n",
       "    .dataframe tbody tr th {\n",
       "        vertical-align: top;\n",
       "    }\n",
       "\n",
       "    .dataframe thead th {\n",
       "        text-align: right;\n",
       "    }\n",
       "</style>\n",
       "<table border=\"1\" class=\"dataframe\">\n",
       "  <thead>\n",
       "    <tr style=\"text-align: right;\">\n",
       "      <th></th>\n",
       "      <th>productCode</th>\n",
       "      <th>productName</th>\n",
       "      <th>productLine</th>\n",
       "      <th>productScale</th>\n",
       "      <th>productVendor</th>\n",
       "      <th>productDescription</th>\n",
       "      <th>quantityInStock</th>\n",
       "      <th>buyPrice</th>\n",
       "      <th>MSRP</th>\n",
       "    </tr>\n",
       "  </thead>\n",
       "  <tbody>\n",
       "    <tr>\n",
       "      <th>1</th>\n",
       "      <td>S10_1949</td>\n",
       "      <td>1952 Alpine Renault 1300</td>\n",
       "      <td>Classic Cars</td>\n",
       "      <td>1:10</td>\n",
       "      <td>Classic Metal Creations</td>\n",
       "      <td>Turnable front wheels; steering function; deta...</td>\n",
       "      <td>7305</td>\n",
       "      <td>98.58</td>\n",
       "      <td>214.30</td>\n",
       "    </tr>\n",
       "    <tr>\n",
       "      <th>4</th>\n",
       "      <td>S10_4757</td>\n",
       "      <td>1972 Alfa Romeo GTA</td>\n",
       "      <td>Classic Cars</td>\n",
       "      <td>1:10</td>\n",
       "      <td>Motor City Art Classics</td>\n",
       "      <td>Features include: Turnable front wheels; steer...</td>\n",
       "      <td>3252</td>\n",
       "      <td>85.68</td>\n",
       "      <td>136.00</td>\n",
       "    </tr>\n",
       "    <tr>\n",
       "      <th>5</th>\n",
       "      <td>S10_4962</td>\n",
       "      <td>1962 LanciaA Delta 16V</td>\n",
       "      <td>Classic Cars</td>\n",
       "      <td>1:10</td>\n",
       "      <td>Second Gear Diecast</td>\n",
       "      <td>Features include: Turnable front wheels; steer...</td>\n",
       "      <td>6791</td>\n",
       "      <td>103.42</td>\n",
       "      <td>147.74</td>\n",
       "    </tr>\n",
       "    <tr>\n",
       "      <th>6</th>\n",
       "      <td>S12_1099</td>\n",
       "      <td>1968 Ford Mustang</td>\n",
       "      <td>Classic Cars</td>\n",
       "      <td>1:12</td>\n",
       "      <td>Autoart Studio Design</td>\n",
       "      <td>Hood, doors and trunk all open to reveal highl...</td>\n",
       "      <td>68</td>\n",
       "      <td>95.34</td>\n",
       "      <td>194.57</td>\n",
       "    </tr>\n",
       "    <tr>\n",
       "      <th>7</th>\n",
       "      <td>S12_1108</td>\n",
       "      <td>2001 Ferrari Enzo</td>\n",
       "      <td>Classic Cars</td>\n",
       "      <td>1:12</td>\n",
       "      <td>Second Gear Diecast</td>\n",
       "      <td>Turnable front wheels; steering function; deta...</td>\n",
       "      <td>3619</td>\n",
       "      <td>95.59</td>\n",
       "      <td>207.80</td>\n",
       "    </tr>\n",
       "  </tbody>\n",
       "</table>\n",
       "</div>"
      ],
      "text/plain": [
       "  productCode               productName   productLine productScale  \\\n",
       "1    S10_1949  1952 Alpine Renault 1300  Classic Cars         1:10   \n",
       "4    S10_4757       1972 Alfa Romeo GTA  Classic Cars         1:10   \n",
       "5    S10_4962    1962 LanciaA Delta 16V  Classic Cars         1:10   \n",
       "6    S12_1099         1968 Ford Mustang  Classic Cars         1:12   \n",
       "7    S12_1108         2001 Ferrari Enzo  Classic Cars         1:12   \n",
       "\n",
       "             productVendor                                 productDescription  \\\n",
       "1  Classic Metal Creations  Turnable front wheels; steering function; deta...   \n",
       "4  Motor City Art Classics  Features include: Turnable front wheels; steer...   \n",
       "5      Second Gear Diecast  Features include: Turnable front wheels; steer...   \n",
       "6    Autoart Studio Design  Hood, doors and trunk all open to reveal highl...   \n",
       "7      Second Gear Diecast  Turnable front wheels; steering function; deta...   \n",
       "\n",
       "   quantityInStock  buyPrice    MSRP  \n",
       "1             7305     98.58  214.30  \n",
       "4             3252     85.68  136.00  \n",
       "5             6791    103.42  147.74  \n",
       "6               68     95.34  194.57  \n",
       "7             3619     95.59  207.80  "
      ]
     },
     "execution_count": 14,
     "metadata": {},
     "output_type": "execute_result"
    }
   ],
   "source": [
    "foo_df = products_df.query(\"buyPrice >=50 & productLine == 'Classic Cars'\")\n",
    "foo_df.head()"
   ]
  },
  {
   "cell_type": "markdown",
   "id": "5f802247-c38a-471a-9574-e8e4eaf6e87d",
   "metadata": {},
   "source": [
    "# Pandas SQL"
   ]
  },
  {
   "cell_type": "code",
   "execution_count": 15,
   "id": "cff06ae6-532f-4c2c-afba-60ad92837e3e",
   "metadata": {},
   "outputs": [
    {
     "name": "stdout",
     "output_type": "stream",
     "text": [
      "Collecting pandasql\n",
      "  Downloading pandasql-0.7.3.tar.gz (26 kB)\n",
      "  Preparing metadata (setup.py): started\n",
      "  Preparing metadata (setup.py): finished with status 'done'\n",
      "Requirement already satisfied: numpy in c:\\users\\aleja\\anaconda3\\lib\\site-packages (from pandasql) (1.26.4)\n",
      "Requirement already satisfied: pandas in c:\\users\\aleja\\anaconda3\\lib\\site-packages (from pandasql) (2.2.2)\n",
      "Requirement already satisfied: sqlalchemy in c:\\users\\aleja\\anaconda3\\lib\\site-packages (from pandasql) (2.0.34)\n",
      "Requirement already satisfied: python-dateutil>=2.8.2 in c:\\users\\aleja\\anaconda3\\lib\\site-packages (from pandas->pandasql) (2.9.0.post0)\n",
      "Requirement already satisfied: pytz>=2020.1 in c:\\users\\aleja\\anaconda3\\lib\\site-packages (from pandas->pandasql) (2024.1)\n",
      "Requirement already satisfied: tzdata>=2022.7 in c:\\users\\aleja\\anaconda3\\lib\\site-packages (from pandas->pandasql) (2023.3)\n",
      "Requirement already satisfied: six>=1.5 in c:\\users\\aleja\\anaconda3\\lib\\site-packages (from python-dateutil>=2.8.2->pandas->pandasql) (1.17.0)\n",
      "Requirement already satisfied: typing-extensions>=4.6.0 in c:\\users\\aleja\\anaconda3\\lib\\site-packages (from sqlalchemy->pandasql) (4.12.2)\n",
      "Requirement already satisfied: greenlet!=0.4.17 in c:\\users\\aleja\\anaconda3\\lib\\site-packages (from sqlalchemy->pandasql) (3.0.1)\n",
      "Building wheels for collected packages: pandasql\n",
      "  Building wheel for pandasql (setup.py): started\n",
      "  Building wheel for pandasql (setup.py): finished with status 'done'\n",
      "  Created wheel for pandasql: filename=pandasql-0.7.3-py3-none-any.whl size=26892 sha256=9d8a7a0cd5289b3c32a69d9b392c44afaac418285787a7de7d4974dd2566c63c\n",
      "  Stored in directory: c:\\users\\aleja\\appdata\\local\\pip\\cache\\wheels\\15\\a1\\e7\\6f92f295b5272ae5c02365e6b8fa19cb93f16a537090a1cf27\n",
      "Successfully built pandasql\n",
      "Installing collected packages: pandasql\n",
      "Successfully installed pandasql-0.7.3\n"
     ]
    },
    {
     "name": "stderr",
     "output_type": "stream",
     "text": [
      "  DEPRECATION: Building 'pandasql' using the legacy setup.py bdist_wheel mechanism, which will be removed in a future version. pip 25.3 will enforce this behaviour change. A possible replacement is to use the standardized build interface by setting the `--use-pep517` option, (possibly combined with `--no-build-isolation`), or adding a `pyproject.toml` file to the source tree of 'pandasql'. Discussion can be found at https://github.com/pypa/pip/issues/6334\n"
     ]
    }
   ],
   "source": [
    "! pip install pandasql"
   ]
  },
  {
   "cell_type": "code",
   "execution_count": 16,
   "id": "43f1fb63-5f1a-4a67-bc40-96701c5900d9",
   "metadata": {},
   "outputs": [],
   "source": [
    "from pandasql import sqldf"
   ]
  },
  {
   "cell_type": "code",
   "execution_count": 23,
   "id": "077a0d7f-4441-4835-a9e8-41df1034b49f",
   "metadata": {},
   "outputs": [],
   "source": [
    "# when you pass a query into pysqldf, the lambda will also pass along the globals, saving you that repetitive task\n",
    "pysqldf = lambda q: sqldf(q, globals())"
   ]
  },
  {
   "cell_type": "code",
   "execution_count": 18,
   "id": "2dee51a1-6384-42af-9993-35b21fe79b43",
   "metadata": {},
   "outputs": [
    {
     "data": {
      "text/plain": [
       "<function __main__.<lambda>(q)>"
      ]
     },
     "execution_count": 18,
     "metadata": {},
     "output_type": "execute_result"
    }
   ],
   "source": [
    "pysqldf"
   ]
  },
  {
   "cell_type": "code",
   "execution_count": 20,
   "id": "8321d49c-e2d1-410b-bbfb-8ed9971d2307",
   "metadata": {},
   "outputs": [
    {
     "data": {
      "text/plain": [
       "'\\nSELECT productCode, productName, SUM(quantityOrdered) as TotalOrdered\\n    FROM products_df\\n        JOIN od_df\\n            USING(productCode)\\nGROUP BY productCode\\nORDER BY TotalOrdered DESC\\nLimit 5\\n'"
      ]
     },
     "execution_count": 20,
     "metadata": {},
     "output_type": "execute_result"
    }
   ],
   "source": [
    "# Query for Pandas\n",
    "top_5_query_pandas = \"\"\"\n",
    "SELECT productCode, productName, SUM(quantityOrdered) as TotalOrdered\n",
    "    FROM products_df\n",
    "        JOIN od_df\n",
    "            USING(productCode)\n",
    "GROUP BY productCode\n",
    "ORDER BY TotalOrdered DESC\n",
    "Limit 5\n",
    "\"\"\"\n",
    "\n",
    "top_5_query_pandas"
   ]
  },
  {
   "cell_type": "code",
   "execution_count": 21,
   "id": "f24757b7-1387-4afe-8fd6-fc3d3b19d0e1",
   "metadata": {},
   "outputs": [
    {
     "data": {
      "text/plain": [
       "'\\nSELECT productCode, productName, SUM(quantityOrdered) as TotalOrdered\\n    FROM products\\n        JOIN orderDetails\\n            USING(productCode)\\nGROUP BY productCode\\nORDER BY TotalOrdered DESC\\nLimit 5\\n'"
      ]
     },
     "execution_count": 21,
     "metadata": {},
     "output_type": "execute_result"
    }
   ],
   "source": [
    "# Query for SQL\n",
    "top_5_query_sql = \"\"\"\n",
    "SELECT productCode, productName, SUM(quantityOrdered) as TotalOrdered\n",
    "    FROM products\n",
    "        JOIN orderDetails\n",
    "            USING(productCode)\n",
    "GROUP BY productCode\n",
    "ORDER BY TotalOrdered DESC\n",
    "Limit 5\n",
    "\"\"\"\n",
    "top_5_query_sql"
   ]
  },
  {
   "cell_type": "code",
   "execution_count": 22,
   "id": "83d6ea33-85de-487f-99d4-dbe2bedc87fb",
   "metadata": {},
   "outputs": [
    {
     "data": {
      "text/html": [
       "<div>\n",
       "<style scoped>\n",
       "    .dataframe tbody tr th:only-of-type {\n",
       "        vertical-align: middle;\n",
       "    }\n",
       "\n",
       "    .dataframe tbody tr th {\n",
       "        vertical-align: top;\n",
       "    }\n",
       "\n",
       "    .dataframe thead th {\n",
       "        text-align: right;\n",
       "    }\n",
       "</style>\n",
       "<table border=\"1\" class=\"dataframe\">\n",
       "  <thead>\n",
       "    <tr style=\"text-align: right;\">\n",
       "      <th></th>\n",
       "      <th>productCode</th>\n",
       "      <th>productName</th>\n",
       "      <th>TotalOrdered</th>\n",
       "    </tr>\n",
       "  </thead>\n",
       "  <tbody>\n",
       "    <tr>\n",
       "      <th>0</th>\n",
       "      <td>S18_3232</td>\n",
       "      <td>1992 Ferrari 360 Spider red</td>\n",
       "      <td>1808</td>\n",
       "    </tr>\n",
       "    <tr>\n",
       "      <th>1</th>\n",
       "      <td>S18_1342</td>\n",
       "      <td>1937 Lincoln Berline</td>\n",
       "      <td>1111</td>\n",
       "    </tr>\n",
       "    <tr>\n",
       "      <th>2</th>\n",
       "      <td>S700_4002</td>\n",
       "      <td>American Airlines: MD-11S</td>\n",
       "      <td>1085</td>\n",
       "    </tr>\n",
       "    <tr>\n",
       "      <th>3</th>\n",
       "      <td>S18_3856</td>\n",
       "      <td>1941 Chevrolet Special Deluxe Cabriolet</td>\n",
       "      <td>1076</td>\n",
       "    </tr>\n",
       "    <tr>\n",
       "      <th>4</th>\n",
       "      <td>S50_1341</td>\n",
       "      <td>1930 Buick Marquette Phaeton</td>\n",
       "      <td>1074</td>\n",
       "    </tr>\n",
       "  </tbody>\n",
       "</table>\n",
       "</div>"
      ],
      "text/plain": [
       "  productCode                              productName  TotalOrdered\n",
       "0    S18_3232              1992 Ferrari 360 Spider red          1808\n",
       "1    S18_1342                     1937 Lincoln Berline          1111\n",
       "2   S700_4002                American Airlines: MD-11S          1085\n",
       "3    S18_3856  1941 Chevrolet Special Deluxe Cabriolet          1076\n",
       "4    S50_1341             1930 Buick Marquette Phaeton          1074"
      ]
     },
     "execution_count": 22,
     "metadata": {},
     "output_type": "execute_result"
    }
   ],
   "source": [
    "top_5 = pysqldf(top_5_query_pandas)\n",
    "top_5.head()"
   ]
  },
  {
   "cell_type": "code",
   "execution_count": 24,
   "id": "f2c5e4e5-6df6-40f7-b7da-a26a6d62bad2",
   "metadata": {},
   "outputs": [
    {
     "data": {
      "text/html": [
       "<div>\n",
       "<style scoped>\n",
       "    .dataframe tbody tr th:only-of-type {\n",
       "        vertical-align: middle;\n",
       "    }\n",
       "\n",
       "    .dataframe tbody tr th {\n",
       "        vertical-align: top;\n",
       "    }\n",
       "\n",
       "    .dataframe thead th {\n",
       "        text-align: right;\n",
       "    }\n",
       "</style>\n",
       "<table border=\"1\" class=\"dataframe\">\n",
       "  <thead>\n",
       "    <tr style=\"text-align: right;\">\n",
       "      <th></th>\n",
       "      <th>productCode</th>\n",
       "      <th>productName</th>\n",
       "      <th>TotalOrdered</th>\n",
       "    </tr>\n",
       "  </thead>\n",
       "  <tbody>\n",
       "    <tr>\n",
       "      <th>0</th>\n",
       "      <td>S18_3232</td>\n",
       "      <td>1992 Ferrari 360 Spider red</td>\n",
       "      <td>1808</td>\n",
       "    </tr>\n",
       "    <tr>\n",
       "      <th>1</th>\n",
       "      <td>S18_1342</td>\n",
       "      <td>1937 Lincoln Berline</td>\n",
       "      <td>1111</td>\n",
       "    </tr>\n",
       "    <tr>\n",
       "      <th>2</th>\n",
       "      <td>S700_4002</td>\n",
       "      <td>American Airlines: MD-11S</td>\n",
       "      <td>1085</td>\n",
       "    </tr>\n",
       "    <tr>\n",
       "      <th>3</th>\n",
       "      <td>S18_3856</td>\n",
       "      <td>1941 Chevrolet Special Deluxe Cabriolet</td>\n",
       "      <td>1076</td>\n",
       "    </tr>\n",
       "    <tr>\n",
       "      <th>4</th>\n",
       "      <td>S50_1341</td>\n",
       "      <td>1930 Buick Marquette Phaeton</td>\n",
       "      <td>1074</td>\n",
       "    </tr>\n",
       "  </tbody>\n",
       "</table>\n",
       "</div>"
      ],
      "text/plain": [
       "  productCode                              productName  TotalOrdered\n",
       "0    S18_3232              1992 Ferrari 360 Spider red          1808\n",
       "1    S18_1342                     1937 Lincoln Berline          1111\n",
       "2   S700_4002                American Airlines: MD-11S          1085\n",
       "3    S18_3856  1941 Chevrolet Special Deluxe Cabriolet          1076\n",
       "4    S50_1341             1930 Buick Marquette Phaeton          1074"
      ]
     },
     "execution_count": 24,
     "metadata": {},
     "output_type": "execute_result"
    }
   ],
   "source": [
    "# Use Pandas to read query\n",
    "top_5_best = pd.read_sql(top_5_query_sql, conn)\n",
    "top_5_best.head()"
   ]
  },
  {
   "cell_type": "code",
   "execution_count": 25,
   "id": "4df5bda6-8f2c-44fb-b654-2ddf4dff221a",
   "metadata": {},
   "outputs": [
    {
     "data": {
      "text/html": [
       "<div>\n",
       "<style scoped>\n",
       "    .dataframe tbody tr th:only-of-type {\n",
       "        vertical-align: middle;\n",
       "    }\n",
       "\n",
       "    .dataframe tbody tr th {\n",
       "        vertical-align: top;\n",
       "    }\n",
       "\n",
       "    .dataframe thead th {\n",
       "        text-align: right;\n",
       "    }\n",
       "</style>\n",
       "<table border=\"1\" class=\"dataframe\">\n",
       "  <thead>\n",
       "    <tr style=\"text-align: right;\">\n",
       "      <th></th>\n",
       "      <th>productCode</th>\n",
       "      <th>productName</th>\n",
       "      <th>TotalOrdered</th>\n",
       "      <th>SalesPercentage</th>\n",
       "    </tr>\n",
       "  </thead>\n",
       "  <tbody>\n",
       "    <tr>\n",
       "      <th>0</th>\n",
       "      <td>S18_3232</td>\n",
       "      <td>1992 Ferrari 360 Spider red</td>\n",
       "      <td>1808</td>\n",
       "      <td>29.379266</td>\n",
       "    </tr>\n",
       "    <tr>\n",
       "      <th>1</th>\n",
       "      <td>S18_1342</td>\n",
       "      <td>1937 Lincoln Berline</td>\n",
       "      <td>1111</td>\n",
       "      <td>18.053299</td>\n",
       "    </tr>\n",
       "    <tr>\n",
       "      <th>2</th>\n",
       "      <td>S700_4002</td>\n",
       "      <td>American Airlines: MD-11S</td>\n",
       "      <td>1085</td>\n",
       "      <td>17.630809</td>\n",
       "    </tr>\n",
       "    <tr>\n",
       "      <th>3</th>\n",
       "      <td>S18_3856</td>\n",
       "      <td>1941 Chevrolet Special Deluxe Cabriolet</td>\n",
       "      <td>1076</td>\n",
       "      <td>17.484563</td>\n",
       "    </tr>\n",
       "    <tr>\n",
       "      <th>4</th>\n",
       "      <td>S50_1341</td>\n",
       "      <td>1930 Buick Marquette Phaeton</td>\n",
       "      <td>1074</td>\n",
       "      <td>17.452064</td>\n",
       "    </tr>\n",
       "  </tbody>\n",
       "</table>\n",
       "</div>"
      ],
      "text/plain": [
       "  productCode                              productName  TotalOrdered  \\\n",
       "0    S18_3232              1992 Ferrari 360 Spider red          1808   \n",
       "1    S18_1342                     1937 Lincoln Berline          1111   \n",
       "2   S700_4002                American Airlines: MD-11S          1085   \n",
       "3    S18_3856  1941 Chevrolet Special Deluxe Cabriolet          1076   \n",
       "4    S50_1341             1930 Buick Marquette Phaeton          1074   \n",
       "\n",
       "   SalesPercentage  \n",
       "0        29.379266  \n",
       "1        18.053299  \n",
       "2        17.630809  \n",
       "3        17.484563  \n",
       "4        17.452064  "
      ]
     },
     "execution_count": 25,
     "metadata": {},
     "output_type": "execute_result"
    }
   ],
   "source": [
    "# Example\n",
    "\n",
    "# Calculate the percentage of total sales for each product among the top 5\n",
    "total_sales = top_5_best['TotalOrdered'].sum()\n",
    "\n",
    "# Add as new column\n",
    "top_5_best['SalesPercentage'] = top_5_best['TotalOrdered'] / total_sales * 100\n",
    "\n",
    "top_5_best.head()"
   ]
  },
  {
   "cell_type": "code",
   "execution_count": 26,
   "id": "a1305042-2af5-4762-bdf2-8affb246e426",
   "metadata": {},
   "outputs": [
    {
     "data": {
      "image/png": "[encoded data removed]",
      "text/plain": [
       "<Figure size 640x480 with 1 Axes>"
      ]
     },
     "metadata": {},
     "output_type": "display_data"
    }
   ],
   "source": [
    "# Chart\n",
    "\n",
    "import matplotlib.pyplot as plt\n",
    "\n",
    "# Create Bar chart\n",
    "top_5_best.plot(x='productName', y='SalesPercentage', kind='bar')\n",
    "plt.title('Sales Percentage of Top 5 Products')\n",
    "plt.ylabel('Percentage of Total Sales')\n",
    "plt.xlabel('Product Name')\n",
    "plt.xticks(rotation=45)\n",
    "plt.tight_layout()\n",
    "plt.show()"
   ]
  },
  {
   "cell_type": "code",
   "execution_count": null,
   "id": "ed8535a0-4bc8-4a1f-9bc3-707dd0ffaf3c",
   "metadata": {},
   "outputs": [],
   "source": []
  }
 ],
 "metadata": {
  "kernelspec": {
   "display_name": "Python (base)",
   "language": "python",
   "name": "base"
  },
  "language_info": {
   "codemirror_mode": {
    "name": "ipython",
    "version": 3
   },
   "file_extension": ".py",
   "mimetype": "text/x-python",
   "name": "python",
   "nbconvert_exporter": "python",
   "pygments_lexer": "ipython3",
   "version": "3.12.9"
  }
 },
 "nbformat": 4,
 "nbformat_minor": 5
}
