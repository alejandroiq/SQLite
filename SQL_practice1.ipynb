{
 "cells": [
  {
   "cell_type": "markdown",
   "id": "842e9bf9-f4e2-4bc5-8230-f43c0fb0a5db",
   "metadata": {},
   "source": [
    "# SQL 2"
   ]
  },
  {
   "cell_type": "code",
   "execution_count": 13,
   "id": "d549e755-da3f-4b0c-b8da-fefdd0514674",
   "metadata": {},
   "outputs": [],
   "source": [
    "import sqlite3 \n",
    "conn = sqlite3.connect('data (1).sqlite')"
   ]
  },
  {
   "cell_type": "code",
   "execution_count": 10,
   "id": "bdf222f0-fd50-4222-a54a-d6db694e2abe",
   "metadata": {},
   "outputs": [],
   "source": [
    "conn.close()"
   ]
  },
  {
   "cell_type": "code",
   "execution_count": 15,
   "id": "0ef8343c-24ca-4c85-9b3c-f93ee8f3e65c",
   "metadata": {},
   "outputs": [
    {
     "data": {
      "text/html": [
       "<div>\n",
       "<style scoped>\n",
       "    .dataframe tbody tr th:only-of-type {\n",
       "        vertical-align: middle;\n",
       "    }\n",
       "\n",
       "    .dataframe tbody tr th {\n",
       "        vertical-align: top;\n",
       "    }\n",
       "\n",
       "    .dataframe thead th {\n",
       "        text-align: right;\n",
       "    }\n",
       "</style>\n",
       "<table border=\"1\" class=\"dataframe\">\n",
       "  <thead>\n",
       "    <tr style=\"text-align: right;\">\n",
       "      <th></th>\n",
       "      <th>employeeNumber</th>\n",
       "      <th>lastName</th>\n",
       "      <th>firstName</th>\n",
       "      <th>extension</th>\n",
       "      <th>email</th>\n",
       "      <th>officeCode</th>\n",
       "      <th>reportsTo</th>\n",
       "      <th>jobTitle</th>\n",
       "    </tr>\n",
       "  </thead>\n",
       "  <tbody>\n",
       "    <tr>\n",
       "      <th>21</th>\n",
       "      <td>1625</td>\n",
       "      <td>Kato</td>\n",
       "      <td>Yoshimi</td>\n",
       "      <td>x102</td>\n",
       "      <td>ykato@classicmodelcars.com</td>\n",
       "      <td>5</td>\n",
       "      <td>1621</td>\n",
       "      <td>Sales Rep</td>\n",
       "    </tr>\n",
       "    <tr>\n",
       "      <th>22</th>\n",
       "      <td>1702</td>\n",
       "      <td>Gerard</td>\n",
       "      <td>Martin</td>\n",
       "      <td>x2312</td>\n",
       "      <td>mgerard@classicmodelcars.com</td>\n",
       "      <td>4</td>\n",
       "      <td>1102</td>\n",
       "      <td>Sales Rep</td>\n",
       "    </tr>\n",
       "  </tbody>\n",
       "</table>\n",
       "</div>"
      ],
      "text/plain": [
       "    employeeNumber lastName firstName extension                         email  \\\n",
       "21            1625     Kato   Yoshimi      x102    ykato@classicmodelcars.com   \n",
       "22            1702   Gerard    Martin     x2312  mgerard@classicmodelcars.com   \n",
       "\n",
       "    officeCode reportsTo   jobTitle  \n",
       "21           5      1621  Sales Rep  \n",
       "22           4      1102  Sales Rep  "
      ]
     },
     "execution_count": 15,
     "metadata": {},
     "output_type": "execute_result"
    }
   ],
   "source": [
    "import pandas as pd\n",
    "pd.read_sql(\"\"\"SELECT * FROM employees;\"\"\", conn).tail(2)"
   ]
  },
  {
   "cell_type": "code",
   "execution_count": null,
   "id": "9b0e6898-c67e-45dc-a7e5-5cfae00160ba",
   "metadata": {},
   "outputs": [],
   "source": [
    "SELECT col1, col2, col3\n",
    "FROM table\n",
    "WHERE records match criteria\n",
    "LIMIT 100;\n",
    "\n",
    "pd.read_sql(\"\"\"\n",
    "SELECT *\n",
    "  FROM employees;\n",
    "\"\"\", conn)\n",
    "\n",
    "# Or  another table\n",
    "pd.read_sql(\"\"\"SELECT * FROM orderDetails;\"\"\", conn)"
   ]
  },
  {
   "cell_type": "code",
   "execution_count": null,
   "id": "961beb6d-c7b7-4040-9518-e575c14e9cf9",
   "metadata": {},
   "outputs": [],
   "source": [
    "#   if we just wanted to select the last and first names of the employees: Any specific order\n",
    "\n",
    "pd.read_sql(\"\"\"\n",
    "SELECT lastName, firstName\n",
    "  FROM employees;\n",
    "\"\"\", conn).head()"
   ]
  },
  {
   "cell_type": "code",
   "execution_count": null,
   "id": "17892561-9444-4533-b922-994f2b3f00ed",
   "metadata": {},
   "outputs": [],
   "source": [
    "# we can use aliases (AS keyword) to change the column names in our query result:\n",
    "\n",
    "pd.read_sql(\"\"\"\n",
    "SELECT firstName AS name\n",
    "  FROM employees;\n",
    "\"\"\", conn).head()"
   ]
  },
  {
   "cell_type": "code",
   "execution_count": null,
   "id": "0b59be0b-16cc-440b-8f9f-1f8daeb019fa",
   "metadata": {},
   "outputs": [],
   "source": [
    "# CASE\n",
    "# we use the jobTitle field to bin all employees into role categories based on whether or not their job title is \"Sales Rep\":\n",
    "# Interacting with the database to create a new column with info I need: CASE basically is the new column\n",
    "\n",
    "pd.read_sql(\"\"\"\n",
    "SELECT firstName, lastName, jobTitle,\n",
    "       CASE\n",
    "       WHEN jobTitle = \"Sales Rep\" THEN \"Sales Rep\"\n",
    "       ELSE \"Not Sales Rep\"\n",
    "       END AS role\n",
    "  FROM employees;\n",
    "\"\"\", conn).head(10)"
   ]
  },
  {
   "cell_type": "code",
   "execution_count": 3,
   "id": "53b5e1e4-83e3-4a1c-92ae-bb45c742b92e",
   "metadata": {},
   "outputs": [],
   "source": [
    "# CASE\n",
    "\n",
    "pd.read_sql(\"\"\"\n",
    "SELECT firstName, lastName, officeCode,\n",
    "       CASE\n",
    "       WHEN officeCode = \"1\" THEN \"San Francisco, CA\"\n",
    "       WHEN officeCode = \"2\" THEN \"Boston, MA\"\n",
    "       WHEN officeCode = \"3\" THEN \"New York, NY\"\n",
    "       WHEN officeCode = \"4\" THEN \"Paris, France\"\n",
    "       WHEN officeCode = \"5\" THEN \"Tokyo, Japan\"\n",
    "       END AS office\n",
    "  FROM employees;\n",
    "\"\"\", conn).head(10)"
   ]
  },
  {
   "cell_type": "code",
   "execution_count": null,
   "id": "8b0ca94a-e545-4037-ab97-170e3c223b43",
   "metadata": {},
   "outputs": [],
   "source": [
    "# CASE\n",
    "# Shorter than above\n",
    "\n",
    "pd.read_sql(\"\"\"\n",
    "SELECT firstName, lastName, officeCode,\n",
    "       CASE officeCode\n",
    "       WHEN \"1\" THEN \"San Francisco, CA\"\n",
    "       WHEN \"2\" THEN \"Boston, MA\"\n",
    "       WHEN \"3\" THEN \"New York, NY\"\n",
    "       WHEN \"4\" THEN \"Paris, France\"\n",
    "       WHEN \"5\" THEN \"Tokyo, Japan\"\n",
    "       END AS office\n",
    "  FROM employees;\n",
    "\"\"\", conn).head(10)"
   ]
  },
  {
   "cell_type": "code",
   "execution_count": null,
   "id": "d92adbae-236a-46cb-a915-63be3176476e",
   "metadata": {},
   "outputs": [],
   "source": [
    "# Length\n",
    "# If we wanted to find the length of the first names of all employees\n",
    "\n",
    "pd.read_sql(\"\"\"\n",
    "SELECT length(firstName) AS name_length\n",
    "  FROM employees;\n",
    "\"\"\", conn).head()"
   ]
  },
  {
   "cell_type": "code",
   "execution_count": 4,
   "id": "0cfc0b53-fb68-4c19-ba77-57e8d218cd05",
   "metadata": {},
   "outputs": [],
   "source": [
    "# Upper\n",
    "# Now let's say we wanted to return all of the employee names in all cap\n",
    "\n",
    "pd.read_sql(\"\"\"\n",
    "SELECT upper(firstName) AS name_in_all_caps\n",
    "  FROM employees;\n",
    "\"\"\", conn).head()"
   ]
  },
  {
   "cell_type": "code",
   "execution_count": null,
   "id": "98daaa8c-7218-4995-b4e0-a0a7ab4e2bc7",
   "metadata": {},
   "outputs": [],
   "source": [
    "# Substr\n",
    "# Let's say we wanted just the first initial (first letter of the first name) for each employee\n",
    "\n",
    "pd.read_sql(\"\"\"\n",
    "SELECT substr(firstName, 1, 1) AS first_initial\n",
    "  FROM employees;\n",
    "\"\"\", conn).head()"
   ]
  },
  {
   "cell_type": "code",
   "execution_count": null,
   "id": "0d9b91a9-32e4-48ed-9e55-54539f3413ee",
   "metadata": {},
   "outputs": [],
   "source": [
    "# If we wanted to add a . after each first initial, we could use the SQLite || (concatenate) operator. This works similarly to + with strings in Python:\n",
    "\n",
    "pd.read_sql(\"\"\"\n",
    "SELECT substr(firstName, 1, 1) || \".\" AS first_initial\n",
    "  FROM employees;\n",
    "\"\"\", conn).head()"
   ]
  },
  {
   "cell_type": "code",
   "execution_count": null,
   "id": "ac6b67ff-d4eb-4b5f-80f7-c9dad28298ba",
   "metadata": {},
   "outputs": [],
   "source": [
    "# combine multiple column values, not just string literals. For example, below we combine the first and last name\n",
    "\n",
    "pd.read_sql(\"\"\"\n",
    "SELECT firstName || lastName AS full_name\n",
    "  FROM employees;\n",
    "\"\"\", conn).head()"
   ]
  },
  {
   "cell_type": "code",
   "execution_count": null,
   "id": "57d5130b-1b4d-4955-b78e-521e9b9c1e69",
   "metadata": {},
   "outputs": [],
   "source": [
    "pd.read_sql(\"\"\"\n",
    "SELECT firstName || \" \" || lastName AS full_name\n",
    "  FROM employees;\n",
    "\"\"\", conn).head()"
   ]
  },
  {
   "cell_type": "code",
   "execution_count": null,
   "id": "ef610d1a-af3b-42b1-bdfb-f498248e3a6f",
   "metadata": {},
   "outputs": [],
   "source": [
    "# we wanted to round the price to the nearest dollar.\n",
    "\n",
    "pd.read_sql(\"\"\"\n",
    "SELECT round(priceEach) AS rounded_price\n",
    "  FROM orderDetails;\n",
    "\"\"\", conn)"
   ]
  },
  {
   "cell_type": "code",
   "execution_count": null,
   "id": "8249be24-27f7-4f93-89ed-842df5568239",
   "metadata": {},
   "outputs": [],
   "source": [
    "# Integer\n",
    "\n",
    "pd.read_sql(\"\"\"\n",
    "SELECT CAST(round(priceEach) AS INTEGER) AS rounded_price_int\n",
    "  FROM orderDetails;\n",
    "\"\"\", conn)"
   ]
  },
  {
   "cell_type": "code",
   "execution_count": null,
   "id": "42eb55e3-a9c6-467c-b606-9a629ea46d40",
   "metadata": {},
   "outputs": [],
   "source": [
    "# Math opperations\n",
    "\n",
    "pd.read_sql(\"\"\"\n",
    "SELECT priceEach * quantityOrdered AS total_price\n",
    "  FROM orderDetails;\n",
    "\"\"\", conn)"
   ]
  },
  {
   "cell_type": "code",
   "execution_count": null,
   "id": "9d58b891-0953-44c2-b50a-ea624e850872",
   "metadata": {},
   "outputs": [],
   "source": [
    "# Datetime\n",
    "\n",
    "pd.read_sql(\"\"\"\n",
    "SELECT requiredDate - orderDate\n",
    "  FROM orders;\n",
    "\"\"\", conn)"
   ]
  },
  {
   "cell_type": "code",
   "execution_count": null,
   "id": "17f41f03-52f1-4671-8e67-a0f09954cf6a",
   "metadata": {},
   "outputs": [],
   "source": [
    "# we need to specify that we want the difference in days\n",
    "\n",
    "pd.read_sql(\"\"\"\n",
    "SELECT julianday(requiredDate) - julianday(orderDate) AS days_from_order_to_required\n",
    "  FROM orders;\n",
    "\"\"\", conn)"
   ]
  },
  {
   "cell_type": "code",
   "execution_count": null,
   "id": "43f0460d-9fa2-4b57-9196-01100e8bcb38",
   "metadata": {},
   "outputs": [],
   "source": [
    "# we wanted to select the order dates as well as dates 1 week after the order dates\n",
    "\n",
    "pd.read_sql(\"\"\"\n",
    "SELECT orderDate, date(orderDate, \"+7 days\") AS one_week_later\n",
    "  FROM orders;\n",
    "\"\"\", conn)"
   ]
  },
  {
   "cell_type": "code",
   "execution_count": null,
   "id": "5f0cf57d-40f6-488d-83cb-5cff14db3732",
   "metadata": {},
   "outputs": [],
   "source": [
    "# Striptime\n",
    "# You can also use the strftime function, which is very similar to the Python version. \n",
    "#This is useful if you want to split apart a date or time value into different sub-parts\n",
    "\n",
    "pd.read_sql(\"\"\"\n",
    "SELECT orderDate,\n",
    "       strftime(\"%m\", orderDate) AS month,\n",
    "       strftime(\"%Y\", orderDate) AS year,\n",
    "       strftime(\"%d\", orderDate) AS day\n",
    "  FROM orders;\n",
    "\"\"\", conn)"
   ]
  },
  {
   "cell_type": "markdown",
   "id": "12fc1bc3-fcd7-4553-83b4-9de6012417d0",
   "metadata": {},
   "source": [
    "Result \n",
    "\n",
    "#\torderDate\tmonth\tyear\tday\n",
    "0\t2003-01-06\t01\t2003\t06\n",
    "1\t2003-01-09\t01\t2003\t09\n",
    "2\t2003-01-10\t01\t2003\t10"
   ]
  },
  {
   "cell_type": "code",
   "execution_count": null,
   "id": "e276a93f-bb73-45df-80f3-4a25e12366c7",
   "metadata": {},
   "outputs": [],
   "source": [
    "# Count # of rows (*) that meet the condition\n",
    "\n",
    "SELECT COUNT(*) FROM students WHERE grade > 85;"
   ]
  },
  {
   "cell_type": "markdown",
   "id": "1ae35ee0-3f47-4ec2-9a3f-b8cf9e7de90c",
   "metadata": {},
   "source": [
    "# Module 2"
   ]
  },
  {
   "cell_type": "code",
   "execution_count": null,
   "id": "a4a8fc16-b5b1-43d5-882c-6e69488bd47b",
   "metadata": {},
   "outputs": [],
   "source": [
    "# The filter goes after \n",
    "\n",
    "SELECT product_name, SUM(price * quantity) AS total_sales\n",
    "FROM sales\n",
    "WHERE category = 'Electronics'\n",
    "AND price > 500\n",
    "AND sale_date BETWEEN '2023-10-01' AND '2023-12-31'\n",
    "GROUP BY product_name;"
   ]
  },
  {
   "cell_type": "code",
   "execution_count": null,
   "id": "1f79a8fd-d90b-458e-8393-41feaa7172e5",
   "metadata": {},
   "outputs": [],
   "source": [
    "conn = sqlite3.connect('pets_database.db')\n",
    "cursor = conn.cursor()\n",
    "pd.read_sql(\"SELECT * FROM cats;\", conn)"
   ]
  },
  {
   "cell_type": "code",
   "execution_count": null,
   "id": "4f2128e7-718e-45a1-bcc0-7464249ea9fd",
   "metadata": {},
   "outputs": [],
   "source": [
    "# Where >=\n",
    "\n",
    "pd.read_sql(\"\"\"\n",
    "SELECT *\n",
    " FROM cats\n",
    "WHERE age >= 5;\n",
    "\"\"\", conn)"
   ]
  },
  {
   "cell_type": "code",
   "execution_count": null,
   "id": "4e459865-79ea-4dc3-8744-503c1e1afb37",
   "metadata": {},
   "outputs": [],
   "source": [
    "# Between\n",
    "\n",
    "SELECT column_name(s)\n",
    "  FROM table_name\n",
    " WHERE column_name BETWEEN value1 AND value2;\n",
    "\n",
    "pd.read_sql(\"\"\"\n",
    "SELECT *\n",
    "  FROM cats\n",
    " WHERE age BETWEEN 1 AND 3;\n",
    "\"\"\", conn)"
   ]
  },
  {
   "cell_type": "code",
   "execution_count": null,
   "id": "199a8573-6008-4457-b7c3-cc86a2608b2c",
   "metadata": {},
   "outputs": [],
   "source": [
    "# Not Nul\n",
    "\n",
    "SELECT column(s)\n",
    "  FROM table_name\n",
    " WHERE column_name IS (NOT) NULL;\n",
    "\n",
    "pd.read_sql(\"\"\"\n",
    "SELECT *\n",
    "  FROM cats\n",
    "WHERE owner_id IS NULL;\n",
    "\"\"\", conn)"
   ]
  },
  {
   "cell_type": "code",
   "execution_count": null,
   "id": "3b649149-6b5d-4e87-ac6a-1cf6ca48bbc5",
   "metadata": {},
   "outputs": [],
   "source": [
    "# Like\n",
    "# It uses wildcards to specify which parts of the string query need to be an exact match and which parts can be variable.\n",
    "\n",
    "SELECT column(s)\n",
    "  FROM table_name\n",
    " WHERE column_name LIKE 'string_with_wildcards';"
   ]
  },
  {
   "cell_type": "code",
   "execution_count": null,
   "id": "afb58314-c173-4efa-b4d2-a7b6a9744538",
   "metadata": {},
   "outputs": [],
   "source": [
    "# Like select all cats with names that start with \"M\" (or \"m\")\n",
    "\n",
    "pd.read_sql(\"\"\"\n",
    "SELECT *\n",
    "  FROM cats\n",
    " WHERE name LIKE 'M%';\n",
    "\"\"\", conn)\n",
    "\n",
    "# we also could have used the substr SQL built-in function here to perform the same task:\n",
    "pd.read_sql(\"\"\"\n",
    "SELECT *\n",
    "  FROM cats\n",
    " WHERE substr(name, 1, 1) = \"M\";\n",
    "\"\"\", conn)\n",
    "\n",
    "# Chatgpt says it's cap sensitive\n",
    "pd.read_sql(\"\"\"\n",
    "SELECT *\n",
    "  FROM cats\n",
    " WHERE UPPER(substr(name, 1, 1)) = \"M\";\n",
    "\"\"\", conn)"
   ]
  },
  {
   "cell_type": "code",
   "execution_count": null,
   "id": "a2ff3d0c-8e46-489f-b1ae-7e0c44e5a691",
   "metadata": {},
   "outputs": [],
   "source": [
    "# select all cats with names where the second letter is \"a\" and the name is four (4) letters long:\n",
    "\n",
    "pd.read_sql(\"\"\"\n",
    "SELECT *\n",
    "  FROM cats\n",
    " WHERE name LIKE '_a__';\n",
    "\"\"\", conn)\n",
    "\n",
    "# SAME\n",
    "pd.read_sql(\"\"\"\n",
    "SELECT *\n",
    "  FROM cats\n",
    " WHERE length(name) = 4 AND substr(name, 2, 1) = \"a\";\n",
    "\"\"\", conn)"
   ]
  },
  {
   "cell_type": "code",
   "execution_count": null,
   "id": "3cb4e844-7472-4119-b4e6-8372eb3816cd",
   "metadata": {},
   "outputs": [],
   "source": [
    "# number of cats who have an owner_id of 1\n",
    "# The formula is applied to the whole table, the the filter.\n",
    "\n",
    "pd.read_sql(\"\"\"\n",
    "SELECT COUNT(owner_id)\n",
    "  FROM cats\n",
    " WHERE owner_id = 1;\n",
    "\"\"\", conn)\n",
    "\n",
    "\n",
    "# Python\n",
    "# Load the table into a DataFrame\n",
    "cats_df = pd.read_sql(\"SELECT * FROM cats;\", conn)\n",
    "\n",
    "# Filter and count\n",
    "count = (cats_df['owner_id'] == 1).sum() # This is a boolean serie"
   ]
  },
  {
   "cell_type": "markdown",
   "id": "e3934bdb-09f8-40b7-8288-435bfce8efa6",
   "metadata": {},
   "source": [
    "# Module 3"
   ]
  },
  {
   "cell_type": "markdown",
   "id": "86038dc5-aa2e-4590-a46e-dd3ed50a43f2",
   "metadata": {},
   "source": [
    "SELECT product_name, SUM(quantity) AS total_quantity\n",
    "FROM sales\n",
    "WHERE sale_date >= '2023-01-01'\n",
    "GROUP BY product_name\n",
    "ORDER BY total_quantity DESC\n",
    "LIMIT 5;\n",
    "Let’s unpack John’s query:\n",
    "\n",
    "SELECT product_name, SUM(quantity) AS total_quantity: Selects the product name and calculates the total quantity sold for each product.\n",
    "FROM sales: Specifies the sales table as the source of data.\n",
    "WHERE sale_date >= '2023-01-01': Filters the data to include sales from January 1, 2023, onwards.\n",
    "GROUP BY product_name: Groups the results by product name to aggregate the quantities.\n",
    "ORDER BY total_quantity DESC: Sorts the results by total quantity in descending order, so the highest-selling products come first.\n",
    "LIMIT 5: Limits the results to the top 5 products.\n"
   ]
  },
  {
   "cell_type": "code",
   "execution_count": 16,
   "id": "87cf9da0-ccfe-4738-9c94-5a8a256afc37",
   "metadata": {},
   "outputs": [],
   "source": [
    "conn.close()"
   ]
  },
  {
   "cell_type": "code",
   "execution_count": null,
   "id": "f5941845-8927-4249-8f62-d83fd11ce265",
   "metadata": {},
   "outputs": [],
   "source": []
  }
 ],
 "metadata": {
  "kernelspec": {
   "display_name": "Python (base)",
   "language": "python",
   "name": "base"
  },
  "language_info": {
   "codemirror_mode": {
    "name": "ipython",
    "version": 3
   },
   "file_extension": ".py",
   "mimetype": "text/x-python",
   "name": "python",
   "nbconvert_exporter": "python",
   "pygments_lexer": "ipython3",
   "version": "3.12.9"
  }
 },
 "nbformat": 4,
 "nbformat_minor": 5
}
