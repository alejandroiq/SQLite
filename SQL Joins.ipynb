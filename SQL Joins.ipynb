{
 "cells": [
  {
   "cell_type": "markdown",
   "id": "f165fca3-d122-4f34-9f25-027ff96500a5",
   "metadata": {},
   "source": [
    "# Joins"
   ]
  },
  {
   "cell_type": "code",
   "execution_count": null,
   "id": "10644edd-4218-4927-8a21-23e6f364b0fc",
   "metadata": {},
   "outputs": [],
   "source": [
    "q = \"\"\"\n",
    "SELECT *\n",
    "FROM employees\n",
    "JOIN managers\n",
    "   ON employees.manager_id = managers.id\n",
    ";\n",
    "\"\"\"\n",
    "pd.read_sql(q, conn)"
   ]
  },
  {
   "cell_type": "code",
   "execution_count": null,
   "id": "6d51b105-8b1d-4557-9d83-6da371109a30",
   "metadata": {},
   "outputs": [],
   "source": [
    "# employees.name table.column\n",
    "# This is the key     ON employees.manager_id = managers.id\n",
    "\n",
    "q = \"\"\"\n",
    "SELECT\n",
    "   employees.name AS employee_name,\n",
    "   employees.pay AS employee_pay,\n",
    "   managers.name AS manager_name\n",
    "FROM employees\n",
    "JOIN managers\n",
    "\n",
    "    ON employees.manager_id = managers.id\n",
    ";\n",
    "\"\"\"\n",
    "pd.read_sql(q, conn)"
   ]
  },
  {
   "cell_type": "code",
   "execution_count": null,
   "id": "02972f97-2939-4c83-bb15-bd3c07cb9ce4",
   "metadata": {},
   "outputs": [],
   "source": []
  }
 ],
 "metadata": {
  "kernelspec": {
   "display_name": "Python (base)",
   "language": "python",
   "name": "base"
  },
  "language_info": {
   "codemirror_mode": {
    "name": "ipython",
    "version": 3
   },
   "file_extension": ".py",
   "mimetype": "text/x-python",
   "name": "python",
   "nbconvert_exporter": "python",
   "pygments_lexer": "ipython3",
   "version": "3.12.9"
  }
 },
 "nbformat": 4,
 "nbformat_minor": 5
}
